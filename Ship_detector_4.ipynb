{
 "cells": [
  {
   "cell_type": "markdown",
   "metadata": {},
   "source": [
    "# Ship Detection"
   ]
  },
  {
   "cell_type": "markdown",
   "metadata": {},
   "source": [
    "# Import all the necessary modules\n",
    "Make a conda environment and install Tensorflow 1.9.0, keras 2.1.6, OpenCV, and sklearn "
   ]
  },
  {
   "cell_type": "code",
   "execution_count": 1,
   "metadata": {},
   "outputs": [
    {
     "name": "stderr",
     "output_type": "stream",
     "text": [
      "Using TensorFlow backend.\n"
     ]
    }
   ],
   "source": [
    "%matplotlib inline\n",
    "#from IPython.display import Image\n",
    "from PIL import Image\n",
    "import os\n",
    "import sys\n",
    "from matplotlib.pyplot import *\n",
    "import time\n",
    "import datetime\n",
    "import os, random, pandas as pd, numpy as np, matplotlib.pyplot as plt, itertools, time, cv2, tensorflow as tf, keras\n",
    "from matplotlib.pyplot import imshow\n",
    "from keras import backend as K\n",
    "from keras.utils.np_utils import to_categorical\n",
    "from keras.callbacks import ModelCheckpoint\n",
    "from keras.preprocessing.image import ImageDataGenerator\n",
    "from keras.models import Sequential, load_model, model_from_json\n",
    "from keras.layers import ZeroPadding2D, Lambda, Dense, Dropout, Activation, Flatten, BatchNormalization, Conv2D, MaxPooling2D, LeakyReLU, GlobalAveragePooling2D \n",
    "from keras import optimizers, regularizers\n",
    "from sklearn import preprocessing\n",
    "from sklearn.metrics import classification_report\n",
    "from collections import defaultdict\n",
    "from sklearn.metrics import confusion_matrix\n",
    "from sklearn.utils import shuffle\n",
    "from scipy import misc, ndimage\n",
    "from scipy.ndimage.interpolation import zoom\n",
    "from scipy.ndimage import imread\n",
    "from IPython.display import display, HTML\n",
    "from keras.backend.tensorflow_backend import set_session\n",
    "import python_utils as utils\n",
    "from natsort import natsorted\n",
    "import glob\n",
    "from keract import get_activations, display_activations"
   ]
  },
  {
   "cell_type": "code",
   "execution_count": 2,
   "metadata": {},
   "outputs": [],
   "source": [
    "config = tf.ConfigProto()\n",
    " \n",
    "# Don't pre-allocate memory; allocate as-needed\n",
    "config.gpu_options.allow_growth = True\n",
    " \n",
    "# Only allow a total of half the GPU memory to be allocated\n",
    "#config.gpu_options.per_process_gpu_memory_fraction = 0.8\n",
    " \n",
    "# Create a session with the above options specified.\n",
    "K.tensorflow_backend.set_session(tf.Session(config=config))"
   ]
  },
  {
   "cell_type": "code",
   "execution_count": 3,
   "metadata": {},
   "outputs": [],
   "source": [
    "name = 'Ship_detector_4'"
   ]
  },
  {
   "cell_type": "markdown",
   "metadata": {},
   "source": [
    "Give a name to the tensorboard instance, we will use this later"
   ]
  },
  {
   "cell_type": "code",
   "execution_count": 4,
   "metadata": {},
   "outputs": [],
   "source": [
    "path_to_cp_TB = os.getcwd()"
   ]
  },
  {
   "cell_type": "markdown",
   "metadata": {},
   "source": [
    "Callbacks for keras, for tensorboard and saving the best fit weights, these callbacks are used when we call model.fit method later"
   ]
  },
  {
   "cell_type": "code",
   "execution_count": 5,
   "metadata": {},
   "outputs": [],
   "source": [
    "call_tensorboard = keras.callbacks.TensorBoard(log_dir=path_to_cp_TB+'/logs_4/{}'.format(name))\n",
    "filepath = path_to_cp_TB + \"/checkpoint_4/\" + name + \"-improvement-{epoch:02d}-{val_acc:.2f}.hdf5\"\n",
    "call_checkpoint = ModelCheckpoint(filepath, monitor='val_acc', verbose=1, save_best_only=True, mode='max')\n",
    "callbacks_list = [call_tensorboard, call_checkpoint]"
   ]
  },
  {
   "cell_type": "markdown",
   "metadata": {},
   "source": [
    "# Lock the random variable generation to a single value\n",
    ".seed functions allow us to reproduce the same results for each random initialization\n",
    "If the seed is set to the same number each time the program is run then the results of training the model will be the same"
   ]
  },
  {
   "cell_type": "code",
   "execution_count": 6,
   "metadata": {},
   "outputs": [],
   "source": [
    "#os.environ['PYTHONHASHSEED'] = '0' \n",
    "#np.random.seed(10)\n",
    "#random.seed(10)\n",
    "#tf.set_random_seed(0)"
   ]
  },
  {
   "cell_type": "markdown",
   "metadata": {},
   "source": [
    "# helper function below for plotting images"
   ]
  },
  {
   "cell_type": "code",
   "execution_count": 7,
   "metadata": {},
   "outputs": [],
   "source": [
    "def plots(ims, figsize = (12,6), rows = 1, interp=False, titles=None):\n",
    "    if type(ims[0]) is np.ndarray:\n",
    "        ims = np.array(ims).astype(np.uint8)\n",
    "        if (ims.shape[-1] != 3):\n",
    "            ims = ims.transpose((0,2,3,1))\n",
    "    f = plt.figure(figsize = figsize)\n",
    "    cols = len(ims)//rows if len(ims) % 2 == 0 else len(ims)//rows + 1\n",
    "    for i in range(len(ims)):\n",
    "        sp = f.add_subplot(rows, cols, i+1)\n",
    "        sp.axis('Off')\n",
    "        if titles is not None:\n",
    "            sp.set_title(titles[i], fontsize=16)\n",
    "        plt.imshow(ims[i], interpolation=None if interp else 'none')\n",
    "\n",
    "def report2dict(cr):\n",
    "    # Parse rows\n",
    "    tmp = list()\n",
    "    for row in cr.split(\"\\n\"):\n",
    "        parsed_row = [x for x in row.split(\"  \") if len(x) > 0]\n",
    "        if len(parsed_row) > 0:\n",
    "            tmp.append(parsed_row)\n",
    "    \n",
    "    # Store in dictionary\n",
    "    measures = tmp[0]\n",
    "\n",
    "    D_class_data = defaultdict(dict)\n",
    "    for row in tmp[1:]:\n",
    "        class_label = row[0]\n",
    "        for j, m in enumerate(measures):\n",
    "            D_class_data[class_label][m.strip()] = float(row[j + 1].strip())\n",
    "    return D_class_data\n",
    "\n",
    "def randomImages(imgs, labels, dims = 'gray'):\n",
    "    rI, rL = shuffle(imgs, labels, random_state=1)\n",
    "    fig = plt.figure(figsize=(16,16))\n",
    "    if dims == 'gray':\n",
    "        plt.subplot(131)\n",
    "        plt.imshow((rI[0]).squeeze(), cmap= dims); plt.axis('off')\n",
    "        plt.subplot(132)\n",
    "        plt.imshow((rI[1]).squeeze(), cmap= dims); plt.axis('off')\n",
    "        plt.subplot(133)\n",
    "        plt.imshow((rI[2]).squeeze(), cmap= dims); plt.axis('off')\n",
    "    elif dims == 'rgb':\n",
    "        plt.subplot(131)\n",
    "        plt.imshow((rI[0]).astype(np.uint8)); plt.axis('off')\n",
    "        plt.subplot(132)\n",
    "        plt.imshow((rI[1]).astype(np.uint8)); plt.axis('off')\n",
    "        plt.subplot(133)\n",
    "        plt.imshow((rI[2]).astype(np.uint8)); plt.axis('off')\n",
    "\n",
    "def plot_confusion_matrix(cm, classes,\n",
    "                          normalize=False,\n",
    "                          title='Confusion matrix',\n",
    "                          cmap=plt.cm.Blues):\n",
    "    \"\"\"\n",
    "    This function prints and plots the confusion matrix.\n",
    "    Normalization can be applied by setting `normalize=True`.\n",
    "    \"\"\"\n",
    "    if normalize:\n",
    "        cm = cm.astype('float') / cm.sum(axis=1)[:, np.newaxis]\n",
    "        print(\"Normalized confusion matrix\")\n",
    "    else:\n",
    "        print('Confusion matrix, without normalization')\n",
    "\n",
    "    print(cm)\n",
    "\n",
    "    plt.imshow(cm, interpolation='nearest', cmap=cmap)\n",
    "    plt.title(title)\n",
    "    plt.colorbar()\n",
    "    tick_marks = np.arange(len(classes))\n",
    "    plt.xticks(tick_marks, classes, rotation=45)\n",
    "    plt.yticks(tick_marks, classes)\n",
    "\n",
    "    fmt = '.2f' if normalize else 'd'\n",
    "    thresh = cm.max() / 2.\n",
    "    for i, j in itertools.product(range(cm.shape[0]), range(cm.shape[1])):\n",
    "        plt.text(j, i, format(cm[i, j], fmt),\n",
    "                 horizontalalignment=\"center\",\n",
    "                 color=\"white\" if cm[i, j] > thresh else \"black\")\n",
    "\n",
    "    plt.tight_layout()\n",
    "    plt.ylabel('True label')\n",
    "    plt.xlabel('Predicted label')\n",
    "    \n",
    "plt.show()\n",
    "def show_values(pc, fmt=\"%.2f\", **kw):\n",
    "    '''\n",
    "    Heatmap with text in each cell with matplotlib's pyplot\n",
    "    Source: https://stackoverflow.com/a/25074150/395857 \n",
    "    By HYRY\n",
    "    '''\n",
    "    pc.update_scalarmappable()\n",
    "    ax = pc.axes\n",
    "    for p, color, value in zip(pc.get_paths(), pc.get_facecolors(), pc.get_array()):\n",
    "        x, y = p.vertices[:-2, :].mean(0)\n",
    "        if np.all(color[:3] > 0.5):\n",
    "            color = (0.0, 0.0, 0.0)\n",
    "        else:\n",
    "            color = (1.0, 1.0, 1.0)\n",
    "        ax.text(x, y, fmt % value, ha=\"center\", va=\"center\", color=color, **kw)\n",
    "\n",
    "\n",
    "def cm2inch(*tupl):\n",
    "    '''\n",
    "    Specify figure size in centimeter in matplotlib\n",
    "    Source: https://stackoverflow.com/a/22787457/395857\n",
    "    By gns-ank\n",
    "    '''\n",
    "    inch = 2.54\n",
    "    if type(tupl[0]) == tuple:\n",
    "        return tuple(i/inch for i in tupl[0])\n",
    "    else:\n",
    "        return tuple(i/inch for i in tupl)\n",
    "\n",
    "\n",
    "def heatmap(AUC, title, xlabel, ylabel, xticklabels, yticklabels, figure_width=40, figure_height=20, correct_orientation=False, cmap='RdBu'):\n",
    "    '''\n",
    "    Inspired by:\n",
    "    - https://stackoverflow.com/a/16124677/395857 \n",
    "    - https://stackoverflow.com/a/25074150/395857\n",
    "    '''\n",
    "\n",
    "    # Plot it out\n",
    "    fig, ax = plt.subplots()    \n",
    "    #c = ax.pcolor(AUC, edgecolors='k', linestyle= 'dashed', linewidths=0.2, cmap='RdBu', vmin=0.0, vmax=1.0)\n",
    "    c = ax.pcolor(AUC, edgecolors='k', linestyle= 'dashed', linewidths=0.2, cmap=cmap)\n",
    "\n",
    "    # put the major ticks at the middle of each cell\n",
    "    ax.set_yticks(np.arange(AUC.shape[0]) + 0.5, minor=False)\n",
    "    ax.set_xticks(np.arange(AUC.shape[1]) + 0.5, minor=False)\n",
    "\n",
    "    # set tick labels\n",
    "    #ax.set_xticklabels(np.arange(1,AUC.shape[1]+1), minor=False)\n",
    "    ax.set_xticklabels(xticklabels, minor=False)\n",
    "    ax.set_yticklabels(yticklabels, minor=False)\n",
    "\n",
    "    # set title and x/y labels\n",
    "    plt.title(title)\n",
    "    plt.xlabel(xlabel)\n",
    "    plt.ylabel(ylabel)      \n",
    "\n",
    "    # Remove last blank column\n",
    "    plt.xlim( (0, AUC.shape[1]) )\n",
    "\n",
    "    # Turn off all the ticks\n",
    "    ax = plt.gca()    \n",
    "    for t in ax.xaxis.get_major_ticks():\n",
    "        t.tick1On = False\n",
    "        t.tick2On = False\n",
    "    for t in ax.yaxis.get_major_ticks():\n",
    "        t.tick1On = False\n",
    "        t.tick2On = False\n",
    "\n",
    "    # Add color bar\n",
    "    plt.colorbar(c)\n",
    "\n",
    "    # Add text in each cell \n",
    "    show_values(c)\n",
    "\n",
    "    # Proper orientation (origin at the top left instead of bottom left)\n",
    "    if correct_orientation:\n",
    "        ax.invert_yaxis()\n",
    "        ax.xaxis.tick_top()       \n",
    "\n",
    "    # resize \n",
    "    fig = plt.gcf()\n",
    "    #fig.set_size_inches(cm2inch(40, 20))\n",
    "    #fig.set_size_inches(cm2inch(40*4, 20*4))\n",
    "    fig.set_size_inches(cm2inch(figure_width, figure_height))\n",
    "\n",
    "def plot_classification_report(classification_report, title='Classification report ', cmap='RdBu'):\n",
    "    '''\n",
    "    Plot scikit-learn classification report.\n",
    "    Extension based on https://stackoverflow.com/a/31689645/395857 \n",
    "    '''\n",
    "    lines = classification_report.split('\\n')\n",
    "\n",
    "    classes = []\n",
    "    plotMat = []\n",
    "    support = []\n",
    "    class_names = []\n",
    "    for line in lines[2 : (len(lines) - 2)]:\n",
    "        t = line.strip().split()\n",
    "        if len(t) < 2: continue\n",
    "        classes.append(t[0])\n",
    "        v = [float(x) for x in t[1: len(t) - 1]]\n",
    "        support.append(int(t[-1]))\n",
    "        class_names.append(t[0])\n",
    "        print(v)\n",
    "        plotMat.append(v)\n",
    "\n",
    "    print('plotMat: {0}'.format(plotMat))\n",
    "    print('support: {0}'.format(support))\n",
    "\n",
    "    xlabel = 'Metrics'\n",
    "    ylabel = 'Classes'\n",
    "    xticklabels = ['Precision', 'Recall', 'F1-score']\n",
    "    yticklabels = ['{0} ({1})'.format(class_names[idx], sup) for idx, sup  in enumerate(support)]\n",
    "    figure_width = 25\n",
    "    figure_height = len(class_names) + 7\n",
    "    correct_orientation = False\n",
    "    heatmap(np.array(plotMat), title, xlabel, ylabel, xticklabels, yticklabels, figure_width, figure_height, correct_orientation, cmap=cmap)\n",
    "\n",
    "\n",
    "def draw_heat_map(report):\n",
    "    plot_classification_report(report)\n",
    "    plt.savefig('test_plot_classif_report.png', dpi=200, format='png', bbox_inches='tight')\n",
    "    plt.show()\n",
    "    plt.close()\n",
    "       \n",
    "def predictions_to_label_array(predictions_array):\n",
    "    predictions_one_hot_encode = []\n",
    "    for array in predictions_array:\n",
    "        result_per__iteration = []\n",
    "        for value in array:\n",
    "            if value < max(array):\n",
    "                result_per__iteration.append(0)\n",
    "            elif value == max(array):\n",
    "                result_per__iteration.append(1)\n",
    "            else:\n",
    "                result_per__iteration.append(0)\n",
    "        predictions_one_hot_encode.append(result_per__iteration)\n",
    "    return([np.where(r==1)[0][0] for r in np.array(predictions_one_hot_encode)])\n"
   ]
  },
  {
   "cell_type": "code",
   "execution_count": 25,
   "metadata": {},
   "outputs": [],
   "source": [
    "datagen = ImageDataGenerator(\n",
    "    rescale=1./255,\n",
    "    #brightness_range = (1, 3),\n",
    "    #rotation_range = 30, #randomly rotate images in the range (0, 180)\n",
    "    #width_shift_range = 0.4, \n",
    "    #height_shift_range = 0.3,\n",
    "    #horizontal_flip = True,\n",
    "    #vertical_flip = True,\n",
    "    #zoom_range = 0.1\n",
    ")\n",
    "\n",
    "datagen_valid = ImageDataGenerator(\n",
    "    rescale=1./255\n",
    ")"
   ]
  },
  {
   "cell_type": "markdown",
   "metadata": {},
   "source": [
    "Path to directories containing the image data, and the list of classes"
   ]
  },
  {
   "cell_type": "code",
   "execution_count": 26,
   "metadata": {},
   "outputs": [],
   "source": [
    "DATADIR = \"/media/hamza/648AE5748AE542E2/data/model_analysis/b_without_brightness/\"\n",
    "paths = [DATADIR+'/train', DATADIR+'/valid', DATADIR+'/test']\n",
    "types = [\"cargo\",\"tanker\", \"other\"]"
   ]
  },
  {
   "cell_type": "code",
   "execution_count": 27,
   "metadata": {},
   "outputs": [],
   "source": [
    "num_classes = len(types)\n",
    "img_rows,img_cols = 150, 150\n",
    "input_shape = (img_rows, img_cols, 3)"
   ]
  },
  {
   "cell_type": "markdown",
   "metadata": {},
   "source": [
    "Path to directories, folders named as per the class they represent"
   ]
  },
  {
   "cell_type": "code",
   "execution_count": 28,
   "metadata": {},
   "outputs": [
    {
     "name": "stdout",
     "output_type": "stream",
     "text": [
      "Found 37607 images belonging to 3 classes.\n",
      "Found 40 images belonging to 3 classes.\n",
      "Found 48 images belonging to 3 classes.\n",
      "class labels are: {'cargo': 0, 'tanker': 1, 'other': 2}\n"
     ]
    }
   ],
   "source": [
    "train_batches = datagen.flow_from_directory(paths[0], target_size = (img_rows, img_cols), color_mode='rgb', classes = types, batch_size = 32, shuffle=True)\n",
    "valid_batches = datagen.flow_from_directory(paths[1], target_size = (img_rows, img_cols), color_mode='rgb',  classes = types, batch_size = 32, shuffle=True)\n",
    "test_batches = datagen_valid.flow_from_directory(paths[2], target_size = (img_rows, img_cols),  color_mode='rgb', classes = types, batch_size = 30, shuffle=True)\n",
    "class_labels = valid_batches.class_indices\n",
    "print('class labels are:', class_labels)"
   ]
  },
  {
   "cell_type": "markdown",
   "metadata": {},
   "source": [
    "Visualize the data"
   ]
  },
  {
   "cell_type": "code",
   "execution_count": 29,
   "metadata": {},
   "outputs": [],
   "source": [
    "train_imgs, train_labels = next(train_batches)\n",
    "valid_imgs, valid_labels = next(valid_batches)\n",
    "test_imgs, test_labels = next(test_batches)"
   ]
  },
  {
   "cell_type": "code",
   "execution_count": 30,
   "metadata": {},
   "outputs": [
    {
     "data": {
      "text/plain": [
       "(32, 150, 150, 3)"
      ]
     },
     "execution_count": 30,
     "metadata": {},
     "output_type": "execute_result"
    }
   ],
   "source": [
    "train_imgs.shape"
   ]
  },
  {
   "cell_type": "markdown",
   "metadata": {},
   "source": [
    "Check the indices or lables assigned to each class by the ImageDataGenerator()"
   ]
  },
  {
   "cell_type": "code",
   "execution_count": 31,
   "metadata": {},
   "outputs": [
    {
     "data": {
      "image/png": "[encoded data removed]",
      "text/plain": [
       "<Figure size 1152x1152 with 3 Axes>"
      ]
     },
     "metadata": {},
     "output_type": "display_data"
    }
   ],
   "source": [
    "randomImages(train_imgs, train_labels, dims = 'gray')"
   ]
  },
  {
   "cell_type": "code",
   "execution_count": 32,
   "metadata": {},
   "outputs": [
    {
     "data": {
      "image/png": "[encoded data removed]",
      "text/plain": [
       "<Figure size 1152x1152 with 3 Axes>"
      ]
     },
     "metadata": {},
     "output_type": "display_data"
    }
   ],
   "source": [
    "randomImages(test_imgs, test_labels, dims = 'gray')"
   ]
  },
  {
   "cell_type": "code",
   "execution_count": 33,
   "metadata": {},
   "outputs": [
    {
     "name": "stdout",
     "output_type": "stream",
     "text": [
      "[[[0.02745098 0.02745098 0.02745098]\n",
      "  [0.01176471 0.01176471 0.01176471]\n",
      "  [0.02352941 0.02352941 0.02352941]\n",
      "  ...\n",
      "  [0.05490196 0.05490196 0.05490196]\n",
      "  [0.03529412 0.03529412 0.03529412]\n",
      "  [0.02745098 0.02745098 0.02745098]]\n",
      "\n",
      " [[0.04313726 0.04313726 0.04313726]\n",
      "  [0.02745098 0.02745098 0.02745098]\n",
      "  [0.01568628 0.01568628 0.01568628]\n",
      "  ...\n",
      "  [0.03137255 0.03137255 0.03137255]\n",
      "  [0.03529412 0.03529412 0.03529412]\n",
      "  [0.0509804  0.0509804  0.0509804 ]]\n",
      "\n",
      " [[0.03529412 0.03529412 0.03529412]\n",
      "  [0.00784314 0.00784314 0.00784314]\n",
      "  [0.01176471 0.01176471 0.01176471]\n",
      "  ...\n",
      "  [0.01568628 0.01568628 0.01568628]\n",
      "  [0.02352941 0.02352941 0.02352941]\n",
      "  [0.01568628 0.01568628 0.01568628]]\n",
      "\n",
      " ...\n",
      "\n",
      " [[0.03137255 0.03137255 0.03137255]\n",
      "  [0.02745098 0.02745098 0.02745098]\n",
      "  [0.02745098 0.02745098 0.02745098]\n",
      "  ...\n",
      "  [0.01176471 0.01176471 0.01176471]\n",
      "  [0.02352941 0.02352941 0.02352941]\n",
      "  [0.03921569 0.03921569 0.03921569]]\n",
      "\n",
      " [[0.04705883 0.04705883 0.04705883]\n",
      "  [0.07450981 0.07450981 0.07450981]\n",
      "  [0.05882353 0.05882353 0.05882353]\n",
      "  ...\n",
      "  [0.05882353 0.05882353 0.05882353]\n",
      "  [0.03921569 0.03921569 0.03921569]\n",
      "  [0.02352941 0.02352941 0.02352941]]\n",
      "\n",
      " [[0.08627451 0.08627451 0.08627451]\n",
      "  [0.04313726 0.04313726 0.04313726]\n",
      "  [0.01568628 0.01568628 0.01568628]\n",
      "  ...\n",
      "  [0.03137255 0.03137255 0.03137255]\n",
      "  [0.01960784 0.01960784 0.01960784]\n",
      "  [0.01568628 0.01568628 0.01568628]]] [[[0.08235294 0.08235294 0.08235294]\n",
      "  [0.11764707 0.11764707 0.11764707]\n",
      "  [0.11764707 0.11764707 0.11764707]\n",
      "  ...\n",
      "  [0.09019608 0.09019608 0.09019608]\n",
      "  [0.09019608 0.09019608 0.09019608]\n",
      "  [0.08235294 0.08235294 0.08235294]]\n",
      "\n",
      " [[0.09019608 0.09019608 0.09019608]\n",
      "  [0.10588236 0.10588236 0.10588236]\n",
      "  [0.10588236 0.10588236 0.10588236]\n",
      "  ...\n",
      "  [0.06666667 0.06666667 0.06666667]\n",
      "  [0.06666667 0.06666667 0.06666667]\n",
      "  [0.07843138 0.07843138 0.07843138]]\n",
      "\n",
      " [[0.09019608 0.09019608 0.09019608]\n",
      "  [0.10588236 0.10588236 0.10588236]\n",
      "  [0.10588236 0.10588236 0.10588236]\n",
      "  ...\n",
      "  [0.06666667 0.06666667 0.06666667]\n",
      "  [0.06666667 0.06666667 0.06666667]\n",
      "  [0.07843138 0.07843138 0.07843138]]\n",
      "\n",
      " ...\n",
      "\n",
      " [[0.07450981 0.07450981 0.07450981]\n",
      "  [0.16470589 0.16470589 0.16470589]\n",
      "  [0.16470589 0.16470589 0.16470589]\n",
      "  ...\n",
      "  [0.15686275 0.15686275 0.15686275]\n",
      "  [0.15686275 0.15686275 0.15686275]\n",
      "  [0.02745098 0.02745098 0.02745098]]\n",
      "\n",
      " [[0.07450981 0.07450981 0.07450981]\n",
      "  [0.16470589 0.16470589 0.16470589]\n",
      "  [0.16470589 0.16470589 0.16470589]\n",
      "  ...\n",
      "  [0.15686275 0.15686275 0.15686275]\n",
      "  [0.15686275 0.15686275 0.15686275]\n",
      "  [0.02745098 0.02745098 0.02745098]]\n",
      "\n",
      " [[0.07450981 0.07450981 0.07450981]\n",
      "  [0.01176471 0.01176471 0.01176471]\n",
      "  [0.01176471 0.01176471 0.01176471]\n",
      "  ...\n",
      "  [0.0627451  0.0627451  0.0627451 ]\n",
      "  [0.0627451  0.0627451  0.0627451 ]\n",
      "  [0.07058824 0.07058824 0.07058824]]]\n"
     ]
    }
   ],
   "source": [
    "print(valid_imgs[0], test_imgs[0])"
   ]
  },
  {
   "cell_type": "code",
   "execution_count": 34,
   "metadata": {},
   "outputs": [
    {
     "data": {
      "text/plain": [
       "array([[[0.02352941, 0.02352941, 0.02352941],\n",
       "        [0.02352941, 0.02352941, 0.02352941],\n",
       "        [0.02352941, 0.02352941, 0.02352941],\n",
       "        ...,\n",
       "        [0.00784314, 0.00784314, 0.00784314],\n",
       "        [0.00784314, 0.00784314, 0.00784314],\n",
       "        [0.00392157, 0.00392157, 0.00392157]],\n",
       "\n",
       "       [[0.00784314, 0.00784314, 0.00784314],\n",
       "        [0.00784314, 0.00784314, 0.00784314],\n",
       "        [0.00784314, 0.00784314, 0.00784314],\n",
       "        ...,\n",
       "        [0.01568628, 0.01568628, 0.01568628],\n",
       "        [0.01568628, 0.01568628, 0.01568628],\n",
       "        [0.01960784, 0.01960784, 0.01960784]],\n",
       "\n",
       "       [[0.00784314, 0.00784314, 0.00784314],\n",
       "        [0.00784314, 0.00784314, 0.00784314],\n",
       "        [0.00784314, 0.00784314, 0.00784314],\n",
       "        ...,\n",
       "        [0.01568628, 0.01568628, 0.01568628],\n",
       "        [0.01568628, 0.01568628, 0.01568628],\n",
       "        [0.01960784, 0.01960784, 0.01960784]],\n",
       "\n",
       "       ...,\n",
       "\n",
       "       [[0.00784314, 0.00784314, 0.00784314],\n",
       "        [0.01568628, 0.01568628, 0.01568628],\n",
       "        [0.01568628, 0.01568628, 0.01568628],\n",
       "        ...,\n",
       "        [0.03137255, 0.03137255, 0.03137255],\n",
       "        [0.03137255, 0.03137255, 0.03137255],\n",
       "        [0.03137255, 0.03137255, 0.03137255]],\n",
       "\n",
       "       [[0.00784314, 0.00784314, 0.00784314],\n",
       "        [0.01568628, 0.01568628, 0.01568628],\n",
       "        [0.01568628, 0.01568628, 0.01568628],\n",
       "        ...,\n",
       "        [0.03137255, 0.03137255, 0.03137255],\n",
       "        [0.03137255, 0.03137255, 0.03137255],\n",
       "        [0.03137255, 0.03137255, 0.03137255]],\n",
       "\n",
       "       [[0.00784314, 0.00784314, 0.00784314],\n",
       "        [0.01568628, 0.01568628, 0.01568628],\n",
       "        [0.01568628, 0.01568628, 0.01568628],\n",
       "        ...,\n",
       "        [0.03137255, 0.03137255, 0.03137255],\n",
       "        [0.03137255, 0.03137255, 0.03137255],\n",
       "        [0.03137255, 0.03137255, 0.03137255]]], dtype=float32)"
      ]
     },
     "execution_count": 34,
     "metadata": {},
     "output_type": "execute_result"
    }
   ],
   "source": [
    "train_imgs[0]"
   ]
  },
  {
   "cell_type": "code",
   "execution_count": 35,
   "metadata": {},
   "outputs": [
    {
     "data": {
      "image/png": "[encoded data removed]",
      "text/plain": [
       "<Figure size 1152x1152 with 3 Axes>"
      ]
     },
     "metadata": {},
     "output_type": "display_data"
    }
   ],
   "source": [
    "randomImages(test_imgs, test_labels, dims='gray')"
   ]
  },
  {
   "cell_type": "code",
   "execution_count": 36,
   "metadata": {},
   "outputs": [
    {
     "name": "stdout",
     "output_type": "stream",
     "text": [
      "(32, 150, 150, 3) (32, 150, 150, 3)\n"
     ]
    }
   ],
   "source": [
    "print(\"{} {}\".format(train_imgs.shape, valid_imgs.shape))"
   ]
  },
  {
   "cell_type": "markdown",
   "metadata": {},
   "source": [
    "Load the model and check its structure"
   ]
  },
  {
   "cell_type": "markdown",
   "metadata": {},
   "source": [
    "# Customizing VGG16\n",
    "iterate over the layers to feed the sequential model, set trainable to False to benefit from the pre-trained weights.\n",
    "Add layers to the model for fine tuning."
   ]
  },
  {
   "cell_type": "code",
   "execution_count": 70,
   "metadata": {},
   "outputs": [
    {
     "name": "stdout",
     "output_type": "stream",
     "text": [
      "_________________________________________________________________\n",
      "Layer (type)                 Output Shape              Param #   \n",
      "=================================================================\n",
      "conv2d_247 (Conv2D)          (None, 148, 148, 8)       224       \n",
      "_________________________________________________________________\n",
      "leaky_re_lu_243 (LeakyReLU)  (None, 148, 148, 8)       0         \n",
      "_________________________________________________________________\n",
      "conv2d_248 (Conv2D)          (None, 146, 146, 8)       584       \n",
      "_________________________________________________________________\n",
      "leaky_re_lu_244 (LeakyReLU)  (None, 146, 146, 8)       0         \n",
      "_________________________________________________________________\n",
      "max_pooling2d_63 (MaxPooling (None, 73, 73, 8)         0         \n",
      "_________________________________________________________________\n",
      "conv2d_249 (Conv2D)          (None, 71, 71, 16)        1168      \n",
      "_________________________________________________________________\n",
      "leaky_re_lu_245 (LeakyReLU)  (None, 71, 71, 16)        0         \n",
      "_________________________________________________________________\n",
      "conv2d_250 (Conv2D)          (None, 69, 69, 16)        2320      \n",
      "_________________________________________________________________\n",
      "leaky_re_lu_246 (LeakyReLU)  (None, 69, 69, 16)        0         \n",
      "_________________________________________________________________\n",
      "max_pooling2d_64 (MaxPooling (None, 34, 34, 16)        0         \n",
      "_________________________________________________________________\n",
      "conv2d_251 (Conv2D)          (None, 31, 31, 32)        8224      \n",
      "_________________________________________________________________\n",
      "leaky_re_lu_247 (LeakyReLU)  (None, 31, 31, 32)        0         \n",
      "_________________________________________________________________\n",
      "conv2d_252 (Conv2D)          (None, 28, 28, 32)        16416     \n",
      "_________________________________________________________________\n",
      "leaky_re_lu_248 (LeakyReLU)  (None, 28, 28, 32)        0         \n",
      "_________________________________________________________________\n",
      "conv2d_253 (Conv2D)          (None, 24, 24, 64)        51264     \n",
      "_________________________________________________________________\n",
      "leaky_re_lu_249 (LeakyReLU)  (None, 24, 24, 64)        0         \n",
      "_________________________________________________________________\n",
      "conv2d_254 (Conv2D)          (None, 20, 20, 64)        102464    \n",
      "_________________________________________________________________\n",
      "leaky_re_lu_250 (LeakyReLU)  (None, 20, 20, 64)        0         \n",
      "_________________________________________________________________\n",
      "conv2d_255 (Conv2D)          (None, 16, 16, 128)       204928    \n",
      "_________________________________________________________________\n",
      "leaky_re_lu_251 (LeakyReLU)  (None, 16, 16, 128)       0         \n",
      "_________________________________________________________________\n",
      "max_pooling2d_65 (MaxPooling (None, 8, 8, 128)         0         \n",
      "_________________________________________________________________\n",
      "conv2d_256 (Conv2D)          (None, 6, 6, 3)           3459      \n",
      "_________________________________________________________________\n",
      "leaky_re_lu_252 (LeakyReLU)  (None, 6, 6, 3)           0         \n",
      "_________________________________________________________________\n",
      "global_average_pooling2d_19  (None, 3)                 0         \n",
      "_________________________________________________________________\n",
      "activation_19 (Activation)   (None, 3)                 0         \n",
      "=================================================================\n",
      "Total params: 391,051\n",
      "Trainable params: 391,051\n",
      "Non-trainable params: 0\n",
      "_________________________________________________________________\n"
     ]
    }
   ],
   "source": [
    "model = Sequential()\n",
    "model.add(Conv2D(8, kernel_size = (3, 3), input_shape=input_shape))\n",
    "model.add(LeakyReLU(alpha=0.2))\n",
    "model.add(Conv2D(8, kernel_size = (3, 3), input_shape=input_shape))\n",
    "model.add(LeakyReLU(alpha=0.2))\n",
    "model.add(MaxPooling2D(pool_size = (2, 2)))\n",
    "\n",
    "model.add(Conv2D(16, (3, 3)))\n",
    "model.add(LeakyReLU(alpha=0.2))\n",
    "model.add(Conv2D(16, (3, 3)))\n",
    "model.add(LeakyReLU(alpha=0.2))\n",
    "model.add(MaxPooling2D(pool_size = (2, 2)))\n",
    "\n",
    "model.add(Conv2D(32, (4, 4)))\n",
    "model.add(LeakyReLU(alpha=0.2))\n",
    "model.add(Conv2D(32, (4, 4)))\n",
    "model.add(LeakyReLU(alpha=0.2))\n",
    "\n",
    "model.add(Conv2D(64, (5, 5)))\n",
    "model.add(LeakyReLU(alpha=0.2))\n",
    "model.add(Conv2D(64, (5, 5)))\n",
    "model.add(LeakyReLU(alpha=0.2))\n",
    "\n",
    "model.add(Conv2D(128, (5, 5)))\n",
    "model.add(LeakyReLU(alpha=0.2))\n",
    "model.add(MaxPooling2D(pool_size = (2, 2)))\n",
    "\n",
    "model.add(Conv2D(3, (3, 3)))\n",
    "model.add(LeakyReLU(alpha=0.2))\n",
    "model.add(GlobalAveragePooling2D())\n",
    "model.add(Activation('softmax'))\n",
    "\n",
    "model.summary()"
   ]
  },
  {
   "cell_type": "code",
   "execution_count": 71,
   "metadata": {},
   "outputs": [],
   "source": [
    "#model = Sequential()\n",
    "#model.add(Conv2D(8, kernel_size = (5, 5), input_shape=input_shape, activation='relu'))\n",
    "#model.add(BatchNormalization())\n",
    "#model.add(Conv2D(16, (5, 5), activation='relu'))\n",
    "#model.add(MaxPooling2D(2,2))\n",
    "#model.add(BatchNormalization())\n",
    "#model.add(Conv2D(32, (6, 6), activation='relu'))\n",
    "#model.add(MaxPooling2D(2,2))\n",
    "#model.add(BatchNormalization())\n",
    "#model.add(Conv2D(64, (5, 5), activation='relu'))\n",
    "#model.add(MaxPooling2D(2,2))\n",
    "#model.add(BatchNormalization())\n",
    "#model.add(Conv2D(128, (5, 5), activation='relu'))\n",
    "#model.add(MaxPooling2D(2,2))\n",
    "#model.add(Flatten())\n",
    "#model.add(Dropout(0.50))\n",
    "#model.add(Dense(2048, activation='relu'))\n",
    "#model.add(Dropout(0.50))\n",
    "#model.add(Dense(2048, activation='relu'))\n",
    "#model.add(Dense(3, activation='softmax'))\n",
    "#model.summary()"
   ]
  },
  {
   "cell_type": "markdown",
   "metadata": {},
   "source": [
    "# Model Compilation and Training"
   ]
  },
  {
   "cell_type": "code",
   "execution_count": 72,
   "metadata": {},
   "outputs": [],
   "source": [
    "def optimize_and_fit(model, lr, epochs):\n",
    "        Adam = optimizers.Adam(lr=lr)\n",
    "        model.compile(optimizer='Adam', loss='categorical_crossentropy', metrics=['accuracy'])\n",
    "        model.fit_generator(train_batches,\n",
    "                    validation_data = (valid_imgs, valid_labels),\n",
    "                    callbacks = callbacks_list,\n",
    "                    epochs = epochs,\n",
    "                    shuffle = True,\n",
    "                    verbose = 1\n",
    "                    )"
   ]
  },
  {
   "cell_type": "code",
   "execution_count": null,
   "metadata": {
    "scrolled": true
   },
   "outputs": [
    {
     "name": "stdout",
     "output_type": "stream",
     "text": [
      "Epoch 1/1000\n",
      "1176/1176 [==============================] - 27s 23ms/step - loss: 0.9654 - acc: 0.5206 - val_loss: 1.2125 - val_acc: 0.3438\n",
      "\n",
      "Epoch 00001: val_acc did not improve from 0.62500\n",
      "Epoch 2/1000\n",
      "1176/1176 [==============================] - 26s 23ms/step - loss: 0.9124 - acc: 0.5645 - val_loss: 1.2023 - val_acc: 0.4375\n",
      "\n",
      "Epoch 00002: val_acc did not improve from 0.62500\n",
      "Epoch 3/1000\n",
      "1176/1176 [==============================] - 27s 23ms/step - loss: 0.8857 - acc: 0.5906 - val_loss: 1.4459 - val_acc: 0.4375\n",
      "\n",
      "Epoch 00003: val_acc did not improve from 0.62500\n",
      "Epoch 4/1000\n",
      "1176/1176 [==============================] - 27s 23ms/step - loss: 0.8691 - acc: 0.6050 - val_loss: 1.4446 - val_acc: 0.4062\n",
      "\n",
      "Epoch 00004: val_acc did not improve from 0.62500\n",
      "Epoch 5/1000\n",
      "1176/1176 [==============================] - 27s 23ms/step - loss: 0.8580 - acc: 0.6123 - val_loss: 1.3304 - val_acc: 0.4062\n",
      "\n",
      "Epoch 00005: val_acc did not improve from 0.62500\n",
      "Epoch 6/1000\n",
      "1176/1176 [==============================] - 27s 23ms/step - loss: 0.8484 - acc: 0.6222 - val_loss: 1.4174 - val_acc: 0.4062\n",
      "\n",
      "Epoch 00006: val_acc did not improve from 0.62500\n",
      "Epoch 7/1000\n",
      "1176/1176 [==============================] - 27s 23ms/step - loss: 0.8410 - acc: 0.6233 - val_loss: 1.2182 - val_acc: 0.4062\n",
      "\n",
      "Epoch 00007: val_acc did not improve from 0.62500\n",
      "Epoch 8/1000\n",
      "1176/1176 [==============================] - 28s 23ms/step - loss: 0.8327 - acc: 0.6276 - val_loss: 1.4969 - val_acc: 0.4062\n",
      "\n",
      "Epoch 00008: val_acc did not improve from 0.62500\n",
      "Epoch 9/1000\n",
      "1176/1176 [==============================] - 29s 25ms/step - loss: 0.8236 - acc: 0.6301 - val_loss: 1.8364 - val_acc: 0.3750\n",
      "\n",
      "Epoch 00009: val_acc did not improve from 0.62500\n",
      "Epoch 10/1000\n",
      "1176/1176 [==============================] - 31s 26ms/step - loss: 0.8142 - acc: 0.6336 - val_loss: 1.4765 - val_acc: 0.4062\n",
      "\n",
      "Epoch 00010: val_acc did not improve from 0.62500\n",
      "Epoch 11/1000\n",
      "1176/1176 [==============================] - 29s 25ms/step - loss: 0.8044 - acc: 0.6374 - val_loss: 1.4565 - val_acc: 0.4375\n",
      "\n",
      "Epoch 00011: val_acc did not improve from 0.62500\n",
      "Epoch 12/1000\n",
      "1176/1176 [==============================] - 28s 24ms/step - loss: 0.7935 - acc: 0.6456 - val_loss: 1.3606 - val_acc: 0.3750\n",
      "\n",
      "Epoch 00012: val_acc did not improve from 0.62500\n",
      "Epoch 13/1000\n",
      "1176/1176 [==============================] - 28s 24ms/step - loss: 0.7827 - acc: 0.6503 - val_loss: 1.5353 - val_acc: 0.4062\n",
      "\n",
      "Epoch 00013: val_acc did not improve from 0.62500\n",
      "Epoch 14/1000\n",
      "1176/1176 [==============================] - 29s 25ms/step - loss: 0.7725 - acc: 0.6559 - val_loss: 1.2785 - val_acc: 0.3750\n",
      "\n",
      "Epoch 00014: val_acc did not improve from 0.62500\n",
      "Epoch 15/1000\n",
      "1176/1176 [==============================] - 29s 25ms/step - loss: 0.7520 - acc: 0.6654 - val_loss: 1.6639 - val_acc: 0.4375\n",
      "\n",
      "Epoch 00015: val_acc did not improve from 0.62500\n",
      "Epoch 16/1000\n",
      "1176/1176 [==============================] - 28s 24ms/step - loss: 0.7344 - acc: 0.6748 - val_loss: 1.4091 - val_acc: 0.5000\n",
      "\n",
      "Epoch 00016: val_acc did not improve from 0.62500\n",
      "Epoch 17/1000\n",
      "1176/1176 [==============================] - 28s 24ms/step - loss: 0.7126 - acc: 0.6870 - val_loss: 1.3531 - val_acc: 0.5312\n",
      "\n",
      "Epoch 00017: val_acc did not improve from 0.62500\n",
      "Epoch 18/1000\n",
      "1176/1176 [==============================] - 28s 24ms/step - loss: 0.6902 - acc: 0.6982 - val_loss: 1.8715 - val_acc: 0.3438\n",
      "\n",
      "Epoch 00018: val_acc did not improve from 0.62500\n",
      "Epoch 19/1000\n",
      "1176/1176 [==============================] - 28s 24ms/step - loss: 0.6619 - acc: 0.7124 - val_loss: 2.3752 - val_acc: 0.3438\n",
      "\n",
      "Epoch 00019: val_acc did not improve from 0.62500\n",
      "Epoch 20/1000\n",
      "1176/1176 [==============================] - 28s 24ms/step - loss: 0.6301 - acc: 0.7297 - val_loss: 1.5519 - val_acc: 0.5625\n",
      "\n",
      "Epoch 00020: val_acc did not improve from 0.62500\n",
      "Epoch 21/1000\n",
      "1176/1176 [==============================] - 28s 24ms/step - loss: 0.5953 - acc: 0.7436 - val_loss: 1.6868 - val_acc: 0.5625\n",
      "\n",
      "Epoch 00021: val_acc did not improve from 0.62500\n",
      "Epoch 22/1000\n",
      "1176/1176 [==============================] - 28s 24ms/step - loss: 0.5559 - acc: 0.7633 - val_loss: 1.8652 - val_acc: 0.5000\n",
      "\n",
      "Epoch 00022: val_acc did not improve from 0.62500\n",
      "Epoch 23/1000\n",
      "1176/1176 [==============================] - 28s 24ms/step - loss: 0.5203 - acc: 0.7824 - val_loss: 1.5537 - val_acc: 0.5625\n",
      "\n",
      "Epoch 00023: val_acc did not improve from 0.62500\n",
      "Epoch 24/1000\n",
      "1176/1176 [==============================] - 27s 23ms/step - loss: 0.4846 - acc: 0.7983 - val_loss: 1.9290 - val_acc: 0.5625\n",
      "\n",
      "Epoch 00024: val_acc did not improve from 0.62500\n",
      "Epoch 25/1000\n",
      "1176/1176 [==============================] - 27s 23ms/step - loss: 0.4486 - acc: 0.8142 - val_loss: 2.4083 - val_acc: 0.5938\n",
      "\n",
      "Epoch 00025: val_acc did not improve from 0.62500\n",
      "Epoch 26/1000\n",
      "1176/1176 [==============================] - 28s 23ms/step - loss: 0.4119 - acc: 0.8295 - val_loss: 2.3751 - val_acc: 0.5312\n",
      "\n",
      "Epoch 00026: val_acc did not improve from 0.62500\n",
      "Epoch 27/1000\n",
      "1176/1176 [==============================] - 28s 24ms/step - loss: 0.3905 - acc: 0.8407 - val_loss: 2.7306 - val_acc: 0.5000\n",
      "\n",
      "Epoch 00027: val_acc did not improve from 0.62500\n",
      "Epoch 28/1000\n",
      "1176/1176 [==============================] - 27s 23ms/step - loss: 0.3672 - acc: 0.8509 - val_loss: 3.2036 - val_acc: 0.5625\n",
      "\n",
      "Epoch 00028: val_acc did not improve from 0.62500\n",
      "Epoch 29/1000\n",
      "1176/1176 [==============================] - 27s 23ms/step - loss: 0.3371 - acc: 0.8642 - val_loss: 2.7630 - val_acc: 0.5000\n",
      "\n",
      "Epoch 00029: val_acc did not improve from 0.62500\n",
      "Epoch 30/1000\n",
      "1176/1176 [==============================] - 28s 24ms/step - loss: 0.3295 - acc: 0.8664 - val_loss: 2.6401 - val_acc: 0.5625\n",
      "\n",
      "Epoch 00030: val_acc did not improve from 0.62500\n",
      "Epoch 31/1000\n",
      "1176/1176 [==============================] - 27s 23ms/step - loss: 0.2979 - acc: 0.8810 - val_loss: 4.0326 - val_acc: 0.4688\n",
      "\n",
      "Epoch 00031: val_acc did not improve from 0.62500\n",
      "Epoch 32/1000\n",
      " 346/1176 [=======>......................] - ETA: 19s - loss: 0.2550 - acc: 0.9023"
     ]
    }
   ],
   "source": [
    "optimize_and_fit(model, 1e-4, 1000)"
   ]
  },
  {
   "cell_type": "code",
   "execution_count": null,
   "metadata": {},
   "outputs": [],
   "source": [
    "## summarize history for accuracy\n",
    "#plt.plot(history.history['acc'])\n",
    "#plt.plot(history.history['val_acc'])\n",
    "#plt.title('model accuracy')\n",
    "#plt.ylabel('accuracy')\n",
    "#plt.xlabel('epoch')\n",
    "#plt.legend(['train', 'test'], loc='upper left')\n",
    "#plt.show()\n",
    "## summarize history for loss\n",
    "#plt.plot(history.history['loss'])\n",
    "#plt.plot(history.history['val_loss'])\n",
    "#plt.title('model loss')\n",
    "#plt.ylabel('loss')\n",
    "#plt.xlabel('epoch')\n",
    "#plt.legend(['train', 'test'], loc='upper left')\n",
    "#plt.show()"
   ]
  },
  {
   "cell_type": "markdown",
   "metadata": {},
   "source": [
    "# Running on test data for Predictions\n",
    "The predictions will be displayed in scientific notation, e.g. 9.9989974e-01 in decimal is 0.99. This indicates high probability for the detected object"
   ]
  },
  {
   "cell_type": "code",
   "execution_count": null,
   "metadata": {},
   "outputs": [],
   "source": [
    "#train_imgs, train_labels = next(train_batches)\n",
    "#valid_imgs, valid_labels = next(valid_batches)\n",
    "test_imgs, test_labels = next(test_batches)"
   ]
  },
  {
   "cell_type": "code",
   "execution_count": null,
   "metadata": {},
   "outputs": [],
   "source": [
    "model = load_model(path_to_cp_TB +'checkpoint_1/'+'Ship_detector_1-improvement-01-0.31.hdf5')"
   ]
  },
  {
   "cell_type": "code",
   "execution_count": null,
   "metadata": {},
   "outputs": [],
   "source": [
    "predictions = model.predict_generator(test_batches, verbose=1)"
   ]
  },
  {
   "cell_type": "markdown",
   "metadata": {},
   "source": [
    "The code block below will only work if HTML and display have been imported in the first block, This will allow us to use CSS formating for comparitive content display on jupyter notebook. For viewing normal outputs, use the print function"
   ]
  },
  {
   "cell_type": "code",
   "execution_count": null,
   "metadata": {},
   "outputs": [],
   "source": [
    "##CSS = \"\"\"\n",
    "##.output{\n",
    "##    flex-direction: row;\n",
    "##    \n",
    "##}\n",
    "##\"\"\"\n",
    "##HTML('<style>{}</style>'.format(CSS))"
   ]
  },
  {
   "cell_type": "code",
   "execution_count": null,
   "metadata": {},
   "outputs": [],
   "source": [
    "display(predictions)\n",
    "display(test_labels)"
   ]
  },
  {
   "cell_type": "markdown",
   "metadata": {},
   "source": [
    "# Plotting Confusion Matrix function \n",
    "Sklearn function 'confusion_matrix(y_true, y_pred)' requires two array arguements with class labels in decimals. The two arrays are true labels and predictions. The function below maps the probabilitiesn or one hot encoded arrays to the required array format"
   ]
  },
  {
   "cell_type": "code",
   "execution_count": null,
   "metadata": {},
   "outputs": [],
   "source": [
    "prediction_label, true_label = predictions_to_label_array(predictions), predictions_to_label_array(test_labels)\n",
    "print('{}\\n{}\\n{}'.format(class_labels, true_label, prediction_label))"
   ]
  },
  {
   "cell_type": "code",
   "execution_count": null,
   "metadata": {},
   "outputs": [],
   "source": [
    "cm = confusion_matrix(true_label, prediction_label)"
   ]
  },
  {
   "cell_type": "markdown",
   "metadata": {},
   "source": [
    "This function has been copied from the Sklearn confusion matrix page"
   ]
  },
  {
   "cell_type": "code",
   "execution_count": null,
   "metadata": {},
   "outputs": [],
   "source": [
    "cm_plot_labels = types\n",
    "plot_confusion_matrix(cm, cm_plot_labels,\n",
    "                          title='Confusion matrix')\n",
    "\n",
    "plot_confusion_matrix(cm, classes=types,\n",
    "                      title='Confusion matrix, without normalization')"
   ]
  },
  {
   "cell_type": "markdown",
   "metadata": {},
   "source": [
    "# Generate Classification Report"
   ]
  },
  {
   "cell_type": "code",
   "execution_count": null,
   "metadata": {},
   "outputs": [],
   "source": [
    "report = classification_report(true_label, prediction_label, target_names=types)"
   ]
  },
  {
   "cell_type": "code",
   "execution_count": null,
   "metadata": {},
   "outputs": [],
   "source": [
    "report_df = pd.DataFrame(report2dict(report)).T\n",
    "report_df"
   ]
  },
  {
   "cell_type": "code",
   "execution_count": null,
   "metadata": {},
   "outputs": [],
   "source": [
    "report_df.to_csv('classification_report.csv')"
   ]
  },
  {
   "cell_type": "code",
   "execution_count": null,
   "metadata": {},
   "outputs": [],
   "source": [
    "draw_heat_map(report)"
   ]
  },
  {
   "cell_type": "markdown",
   "metadata": {},
   "source": [
    "# Visualizing the activations"
   ]
  },
  {
   "cell_type": "code",
   "execution_count": null,
   "metadata": {},
   "outputs": [],
   "source": [
    "model.summary()"
   ]
  },
  {
   "cell_type": "code",
   "execution_count": null,
   "metadata": {},
   "outputs": [],
   "source": [
    "# dimensions of the generated pictures for each filter.\n",
    "img_width = 100\n",
    "img_height = 100\n",
    "\n",
    "# the name of the layer we want to visualize\n",
    "layer_name = 'leaky_re_lu_5'"
   ]
  },
  {
   "cell_type": "code",
   "execution_count": null,
   "metadata": {},
   "outputs": [],
   "source": [
    "# util function to convert a tensor into a valid image\n",
    "def deprocess_image(x):\n",
    "    # normalize tensor: center on 0., ensure std is 0.1\n",
    "    x -= x.mean()\n",
    "    x /= (x.std() + K.epsilon())\n",
    "    x *= 0.1\n",
    "\n",
    "    # clip to [0, 1]\n",
    "    x += 0.5\n",
    "    x = np.clip(x, 0, 1)\n",
    "\n",
    "    # convert to RGB array\n",
    "    x *= 255\n",
    "    if K.image_data_format() == 'channels_first':\n",
    "        x = x.transpose((1, 2, 0))\n",
    "    x = np.clip(x, 0, 255).astype('uint8')\n",
    "    return x"
   ]
  },
  {
   "cell_type": "code",
   "execution_count": null,
   "metadata": {},
   "outputs": [],
   "source": [
    "# build the VGG16 network\n",
    "model = test_model\n",
    "print('Model loaded.')"
   ]
  },
  {
   "cell_type": "code",
   "execution_count": null,
   "metadata": {},
   "outputs": [],
   "source": [
    "# this is the placeholder for the input images\n",
    "input_img = model.input"
   ]
  },
  {
   "cell_type": "code",
   "execution_count": null,
   "metadata": {},
   "outputs": [],
   "source": [
    "# get the symbolic outputs of each \"key\" layer (we gave them unique names).\n",
    "layer_dict = dict([(layer.name, layer) for layer in model.layers])"
   ]
  },
  {
   "cell_type": "code",
   "execution_count": null,
   "metadata": {},
   "outputs": [],
   "source": [
    "def normalize(x):\n",
    "    # utility function to normalize a tensor by its L2 norm\n",
    "    return x / (K.sqrt(K.mean(K.square(x))) + K.epsilon())"
   ]
  },
  {
   "cell_type": "code",
   "execution_count": null,
   "metadata": {},
   "outputs": [],
   "source": [
    "kept_filters = []\n",
    "for filter_index in range(200):\n",
    "    # we only scan through the first 200 filters,\n",
    "    # but there are actually 512 of them\n",
    "    print('Processing filter %d' % filter_index)\n",
    "    start_time = time.time()\n",
    "\n",
    "    # we build a loss function that maximizes the activation\n",
    "    # of the nth filter of the layer considered\n",
    "    layer_output = layer_dict[layer_name].output\n",
    "    if K.image_data_format() == 'channels_first':\n",
    "        loss = K.mean(layer_output[:, filter_index, :, :])\n",
    "    else:\n",
    "        loss = K.mean(layer_output[:, :, :, filter_index])\n",
    "\n",
    "    # we compute the gradient of the input picture wrt this loss\n",
    "    grads = K.gradients(loss, input_img)[0]\n",
    "\n",
    "    # normalization trick: we normalize the gradient\n",
    "    grads = normalize(grads)\n",
    "\n",
    "    # this function returns the loss and grads given the input picture\n",
    "    iterate = K.function([input_img], [loss, grads])\n",
    "\n",
    "    # step size for gradient ascent\n",
    "    step = 1.\n",
    "\n",
    "    # we start from a gray image with some random noise\n",
    "    if K.image_data_format() == 'channels_first':\n",
    "        input_img_data = np.random.random((1, 3, img_width, img_height))\n",
    "    else:\n",
    "        input_img_data = np.random.random((1, img_width, img_height, 3))\n",
    "    input_img_data = (input_img_data - 0.5) * 20 + 128\n",
    "\n",
    "    # we run gradient ascent for 20 steps\n",
    "    for i in range(20):\n",
    "        loss_value, grads_value = iterate([input_img_data])\n",
    "        input_img_data += grads_value * step\n",
    "\n",
    "        print('Current loss value:', loss_value)\n",
    "        if loss_value <= 0.:\n",
    "            # some filters get stuck to 0, we can skip them\n",
    "            break\n",
    "\n",
    "    # decode the resulting input image\n",
    "    if loss_value > 0:\n",
    "        img = deprocess_image(input_img_data[0])\n",
    "        kept_filters.append((img, loss_value))\n",
    "    end_time = time.time()\n",
    "    print('Filter %d processed in %ds' % (filter_index, end_time - start_time))\n",
    "\n",
    "# we will stich the best 64 filters on a 8 x 8 grid.\n",
    "n = 8"
   ]
  },
  {
   "cell_type": "code",
   "execution_count": null,
   "metadata": {},
   "outputs": [],
   "source": [
    "# the filters that have the highest loss are assumed to be better-looking.\n",
    "# we will only keep the top 64 filters.\n",
    "kept_filters.sort(key=lambda x: x[1], reverse=True)\n",
    "kept_filters = kept_filters[:n * n]\n",
    "\n",
    "# build a black picture with enough space for\n",
    "# our 8 x 8 filters of size 128 x 128, with a 5px margin in between\n",
    "margin = 5\n",
    "width = n * img_width + (n - 1) * margin\n",
    "height = n * img_height + (n - 1) * margin\n",
    "stitched_filters = np.zeros((width, height, 3))\n",
    "\n",
    "# fill the picture with our saved filters\n",
    "for i in range(n):\n",
    "    for j in range(n):\n",
    "        img, loss = kept_filters[i * n + j]\n",
    "        width_margin = (img_width + margin) * i\n",
    "        height_margin = (img_height + margin) * j\n",
    "        stitched_filters[\n",
    "            width_margin: width_margin + img_width,\n",
    "            height_margin: height_margin + img_height, :] = img\n",
    "\n",
    "# save the result to disk\n",
    "#save_img('stitched_filters_%dx%d.png' % (n, n), stitched_filters)"
   ]
  },
  {
   "cell_type": "code",
   "execution_count": null,
   "metadata": {},
   "outputs": [],
   "source": [
    "figure(figsize = (20,20))\n",
    "plt.imshow((stitched_filters * 255).astype(np.uint8), interpolation='nearest', aspect='auto')"
   ]
  },
  {
   "cell_type": "code",
   "execution_count": null,
   "metadata": {},
   "outputs": [],
   "source": []
  }
 ],
 "metadata": {
  "kernelspec": {
   "display_name": "Python 3",
   "language": "python",
   "name": "python3"
  },
  "language_info": {
   "codemirror_mode": {
    "name": "ipython",
    "version": 3
   },
   "file_extension": ".py",
   "mimetype": "text/x-python",
   "name": "python",
   "nbconvert_exporter": "python",
   "pygments_lexer": "ipython3",
   "version": "3.7.4"
  }
 },
 "nbformat": 4,
 "nbformat_minor": 2
}
